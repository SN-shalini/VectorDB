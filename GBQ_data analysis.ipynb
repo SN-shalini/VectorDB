{
 "cells": [
  {
   "cell_type": "code",
   "execution_count": 5,
   "id": "7de2e68d",
   "metadata": {},
   "outputs": [],
   "source": [
    "from google.cloud import bigquery\n",
    "\n"
   ]
  },
  {
   "cell_type": "code",
   "execution_count": 2,
   "id": "4801a607",
   "metadata": {},
   "outputs": [
    {
     "name": "stdout",
     "output_type": "stream",
     "text": [
      "Collecting google\n",
      "  Downloading google-3.0.0-py2.py3-none-any.whl (45 kB)\n",
      "\u001b[2K     \u001b[90m━━━━━━━━━━━━━━━━━━━━━━━━━━━━━━━━━━━━━━━━\u001b[0m \u001b[32m45.3/45.3 kB\u001b[0m \u001b[31m2.9 MB/s\u001b[0m eta \u001b[36m0:00:00\u001b[0m\n",
      "\u001b[?25hRequirement already satisfied: beautifulsoup4 in /home/shalini_tiwari/anaconda3/lib/python3.10/site-packages (from google) (4.11.1)\n",
      "Requirement already satisfied: soupsieve>1.2 in /home/shalini_tiwari/anaconda3/lib/python3.10/site-packages (from beautifulsoup4->google) (2.3.2.post1)\n",
      "Installing collected packages: google\n",
      "Successfully installed google-3.0.0\n",
      "Note: you may need to restart the kernel to use updated packages.\n"
     ]
    }
   ],
   "source": [
    "pip install google\n"
   ]
  },
  {
   "cell_type": "code",
   "execution_count": 4,
   "id": "8002a821",
   "metadata": {},
   "outputs": [
    {
     "name": "stdout",
     "output_type": "stream",
     "text": [
      "Collecting bigquery\n",
      "  Downloading bigquery-0.0.35.tar.gz (8.1 kB)\n",
      "  Preparing metadata (setup.py) ... \u001b[?25ldone\n",
      "\u001b[?25hCollecting dbstream>=0.1.19\n",
      "  Downloading dbstream-0.1.21.tar.gz (5.9 kB)\n",
      "  Preparing metadata (setup.py) ... \u001b[?25ldone\n",
      "\u001b[?25hCollecting google-cloud-bigquery>=2.4.0\n",
      "  Downloading google_cloud_bigquery-3.11.4-py2.py3-none-any.whl (219 kB)\n",
      "\u001b[2K     \u001b[90m━━━━━━━━━━━━━━━━━━━━━━━━━━━━━━━━━━━━━━━\u001b[0m \u001b[32m219.6/219.6 kB\u001b[0m \u001b[31m6.9 MB/s\u001b[0m eta \u001b[36m0:00:00\u001b[0m\n",
      "\u001b[?25hCollecting googleauthentication>=0.0.12\n",
      "  Downloading googleauthentication-0.0.17.tar.gz (2.9 kB)\n",
      "  Preparing metadata (setup.py) ... \u001b[?25ldone\n",
      "\u001b[?25hCollecting google-cloud-bigquery-storage>=2.1.0\n",
      "  Downloading google_cloud_bigquery_storage-2.22.0-py2.py3-none-any.whl (190 kB)\n",
      "\u001b[2K     \u001b[90m━━━━━━━━━━━━━━━━━━━━━━━━━━━━━━━━━━━━━━\u001b[0m \u001b[32m190.9/190.9 kB\u001b[0m \u001b[31m22.5 MB/s\u001b[0m eta \u001b[36m0:00:00\u001b[0m\n",
      "\u001b[?25hCollecting pandas==1.3.4\n",
      "  Downloading pandas-1.3.4-cp310-cp310-manylinux_2_17_x86_64.manylinux2014_x86_64.whl (11.5 MB)\n",
      "\u001b[2K     \u001b[90m━━━━━━━━━━━━━━━━━━━━━━━━━━━━━━━━━━━━━━━━\u001b[0m \u001b[32m11.5/11.5 MB\u001b[0m \u001b[31m35.4 MB/s\u001b[0m eta \u001b[36m0:00:00\u001b[0m00:01\u001b[0m0:01\u001b[0mm\n",
      "\u001b[?25hRequirement already satisfied: pyarrow>=2.0.0 in /home/shalini_tiwari/anaconda3/lib/python3.10/site-packages (from bigquery) (12.0.1)\n",
      "Requirement already satisfied: python-dateutil>=2.7.3 in /home/shalini_tiwari/anaconda3/lib/python3.10/site-packages (from pandas==1.3.4->bigquery) (2.8.2)\n",
      "Requirement already satisfied: pytz>=2017.3 in /home/shalini_tiwari/anaconda3/lib/python3.10/site-packages (from pandas==1.3.4->bigquery) (2022.7)\n",
      "Requirement already satisfied: numpy>=1.21.0 in /home/shalini_tiwari/anaconda3/lib/python3.10/site-packages (from pandas==1.3.4->bigquery) (1.23.5)\n",
      "Collecting dacktool>=0.0.7\n",
      "  Downloading dacktool-0.0.7.tar.gz (3.1 kB)\n",
      "  Preparing metadata (setup.py) ... \u001b[?25ldone\n",
      "\u001b[?25hRequirement already satisfied: requests>=2.22.0 in /home/shalini_tiwari/anaconda3/lib/python3.10/site-packages (from dbstream>=0.1.19->bigquery) (2.28.1)\n",
      "Requirement already satisfied: google-api-core>=2.3.2 in /home/shalini_tiwari/anaconda3/lib/python3.10/site-packages (from dbstream>=0.1.19->bigquery) (2.11.1)\n",
      "Collecting grpcio<2.0dev,>=1.47.0\n",
      "  Downloading grpcio-1.57.0-cp310-cp310-manylinux_2_17_x86_64.manylinux2014_x86_64.whl (5.3 MB)\n",
      "\u001b[2K     \u001b[90m━━━━━━━━━━━━━━━━━━━━━━━━━━━━━━━━━━━━━━━━\u001b[0m \u001b[32m5.3/5.3 MB\u001b[0m \u001b[31m58.4 MB/s\u001b[0m eta \u001b[36m0:00:00\u001b[0m00:01\u001b[0m00:01\u001b[0m\n",
      "\u001b[?25hRequirement already satisfied: packaging>=20.0.0 in /home/shalini_tiwari/anaconda3/lib/python3.10/site-packages (from google-cloud-bigquery>=2.4.0->bigquery) (22.0)\n",
      "Requirement already satisfied: protobuf!=3.20.0,!=3.20.1,!=4.21.0,!=4.21.1,!=4.21.2,!=4.21.3,!=4.21.4,!=4.21.5,<5.0.0dev,>=3.19.5 in /home/shalini_tiwari/anaconda3/lib/python3.10/site-packages (from google-cloud-bigquery>=2.4.0->bigquery) (4.23.4)\n",
      "Requirement already satisfied: google-resumable-media<3.0dev,>=0.6.0 in /home/shalini_tiwari/anaconda3/lib/python3.10/site-packages (from google-cloud-bigquery>=2.4.0->bigquery) (2.5.0)\n",
      "Requirement already satisfied: google-cloud-core<3.0.0dev,>=1.6.0 in /home/shalini_tiwari/anaconda3/lib/python3.10/site-packages (from google-cloud-bigquery>=2.4.0->bigquery) (2.3.3)\n",
      "Collecting proto-plus<2.0.0dev,>=1.15.0\n",
      "  Downloading proto_plus-1.22.3-py3-none-any.whl (48 kB)\n",
      "\u001b[2K     \u001b[90m━━━━━━━━━━━━━━━━━━━━━━━━━━━━━━━━━━━━━━━━\u001b[0m \u001b[32m48.1/48.1 kB\u001b[0m \u001b[31m6.9 MB/s\u001b[0m eta \u001b[36m0:00:00\u001b[0m\n",
      "\u001b[?25hCollecting google-api-python-client==1.7.11\n",
      "  Downloading google-api-python-client-1.7.11.tar.gz (142 kB)\n",
      "\u001b[2K     \u001b[90m━━━━━━━━━━━━━━━━━━━━━━━━━━━━━━━━━━━━━━\u001b[0m \u001b[32m142.8/142.8 kB\u001b[0m \u001b[31m20.7 MB/s\u001b[0m eta \u001b[36m0:00:00\u001b[0m\n",
      "\u001b[?25h  Preparing metadata (setup.py) ... \u001b[?25ldone\n",
      "\u001b[?25hRequirement already satisfied: google-auth>=1.23.0 in /home/shalini_tiwari/anaconda3/lib/python3.10/site-packages (from googleauthentication>=0.0.12->bigquery) (2.22.0)\n",
      "Collecting google-auth-httplib2==0.0.3\n",
      "  Downloading google_auth_httplib2-0.0.3-py2.py3-none-any.whl (6.3 kB)\n",
      "Requirement already satisfied: google-auth-oauthlib>=0.4.0 in /home/shalini_tiwari/anaconda3/lib/python3.10/site-packages (from googleauthentication>=0.0.12->bigquery) (1.0.0)\n",
      "Requirement already satisfied: cryptography>=2.7 in /home/shalini_tiwari/anaconda3/lib/python3.10/site-packages (from googleauthentication>=0.0.12->bigquery) (39.0.1)\n",
      "Collecting google-cloud-secret-manager==2.7.2\n",
      "  Downloading google_cloud_secret_manager-2.7.2-py2.py3-none-any.whl (94 kB)\n",
      "\u001b[2K     \u001b[90m━━━━━━━━━━━━━━━━━━━━━━━━━━━━━━━━━━━━━━━━\u001b[0m \u001b[32m94.6/94.6 kB\u001b[0m \u001b[31m14.0 MB/s\u001b[0m eta \u001b[36m0:00:00\u001b[0m\n",
      "\u001b[?25hRequirement already satisfied: httplib2<1dev,>=0.9.2 in /home/shalini_tiwari/anaconda3/lib/python3.10/site-packages (from google-api-python-client==1.7.11->googleauthentication>=0.0.12->bigquery) (0.22.0)\n",
      "Requirement already satisfied: six<2dev,>=1.6.1 in /home/shalini_tiwari/anaconda3/lib/python3.10/site-packages (from google-api-python-client==1.7.11->googleauthentication>=0.0.12->bigquery) (1.16.0)\n",
      "Collecting uritemplate<4dev,>=3.0.0\n",
      "  Downloading uritemplate-3.0.1-py2.py3-none-any.whl (15 kB)\n",
      "Collecting grpc-google-iam-v1<0.13dev,>=0.12.3\n",
      "  Downloading grpc_google_iam_v1-0.12.6-py2.py3-none-any.whl (26 kB)\n",
      "Collecting libcst>=0.2.5\n",
      "  Downloading libcst-1.0.1-cp310-cp310-manylinux_2_17_x86_64.manylinux2014_x86_64.whl (2.9 MB)\n",
      "\u001b[2K     \u001b[90m━━━━━━━━━━━━━━━━━━━━━━━━━━━━━━━━━━━━━━━━\u001b[0m \u001b[32m2.9/2.9 MB\u001b[0m \u001b[31m83.4 MB/s\u001b[0m eta \u001b[36m0:00:00\u001b[0m:00:01\u001b[0m\n",
      "\u001b[?25hRequirement already satisfied: cffi>=1.12 in /home/shalini_tiwari/anaconda3/lib/python3.10/site-packages (from cryptography>=2.7->googleauthentication>=0.0.12->bigquery) (1.15.1)\n",
      "Requirement already satisfied: googleapis-common-protos<2.0.dev0,>=1.56.2 in /home/shalini_tiwari/anaconda3/lib/python3.10/site-packages (from google-api-core>=2.3.2->dbstream>=0.1.19->bigquery) (1.59.1)\n",
      "Collecting grpcio-status<2.0.dev0,>=1.33.2\n",
      "  Downloading grpcio_status-1.57.0-py3-none-any.whl (5.1 kB)\n",
      "Requirement already satisfied: rsa<5,>=3.1.4 in /home/shalini_tiwari/anaconda3/lib/python3.10/site-packages (from google-auth>=1.23.0->googleauthentication>=0.0.12->bigquery) (4.9)\n",
      "Requirement already satisfied: cachetools<6.0,>=2.0.0 in /home/shalini_tiwari/anaconda3/lib/python3.10/site-packages (from google-auth>=1.23.0->googleauthentication>=0.0.12->bigquery) (5.3.1)\n",
      "Requirement already satisfied: pyasn1-modules>=0.2.1 in /home/shalini_tiwari/anaconda3/lib/python3.10/site-packages (from google-auth>=1.23.0->googleauthentication>=0.0.12->bigquery) (0.2.8)\n",
      "Requirement already satisfied: urllib3<2.0 in /home/shalini_tiwari/anaconda3/lib/python3.10/site-packages (from google-auth>=1.23.0->googleauthentication>=0.0.12->bigquery) (1.26.14)\n",
      "Requirement already satisfied: requests-oauthlib>=0.7.0 in /home/shalini_tiwari/anaconda3/lib/python3.10/site-packages (from google-auth-oauthlib>=0.4.0->googleauthentication>=0.0.12->bigquery) (1.3.1)\n",
      "Requirement already satisfied: google-crc32c<2.0dev,>=1.0 in /home/shalini_tiwari/anaconda3/lib/python3.10/site-packages (from google-resumable-media<3.0dev,>=0.6.0->google-cloud-bigquery>=2.4.0->bigquery) (1.5.0)\n",
      "Requirement already satisfied: idna<4,>=2.5 in /home/shalini_tiwari/anaconda3/lib/python3.10/site-packages (from requests>=2.22.0->dbstream>=0.1.19->bigquery) (3.4)\n",
      "Requirement already satisfied: certifi>=2017.4.17 in /home/shalini_tiwari/anaconda3/lib/python3.10/site-packages (from requests>=2.22.0->dbstream>=0.1.19->bigquery) (2022.12.7)\n",
      "Requirement already satisfied: charset-normalizer<3,>=2 in /home/shalini_tiwari/anaconda3/lib/python3.10/site-packages (from requests>=2.22.0->dbstream>=0.1.19->bigquery) (2.0.4)\n",
      "Requirement already satisfied: pycparser in /home/shalini_tiwari/anaconda3/lib/python3.10/site-packages (from cffi>=1.12->cryptography>=2.7->googleauthentication>=0.0.12->bigquery) (2.21)\n",
      "Requirement already satisfied: pyparsing!=3.0.0,!=3.0.1,!=3.0.2,!=3.0.3,<4,>=2.4.2 in /home/shalini_tiwari/anaconda3/lib/python3.10/site-packages (from httplib2<1dev,>=0.9.2->google-api-python-client==1.7.11->googleauthentication>=0.0.12->bigquery) (3.0.9)\n",
      "Requirement already satisfied: pyyaml>=5.2 in /home/shalini_tiwari/anaconda3/lib/python3.10/site-packages (from libcst>=0.2.5->google-cloud-secret-manager==2.7.2->googleauthentication>=0.0.12->bigquery) (6.0)\n",
      "Requirement already satisfied: typing-extensions>=3.7.4.2 in /home/shalini_tiwari/anaconda3/lib/python3.10/site-packages (from libcst>=0.2.5->google-cloud-secret-manager==2.7.2->googleauthentication>=0.0.12->bigquery) (4.4.0)\n",
      "Requirement already satisfied: typing-inspect>=0.4.0 in /home/shalini_tiwari/anaconda3/lib/python3.10/site-packages (from libcst>=0.2.5->google-cloud-secret-manager==2.7.2->googleauthentication>=0.0.12->bigquery) (0.9.0)\n",
      "Requirement already satisfied: pyasn1<0.5.0,>=0.4.6 in /home/shalini_tiwari/anaconda3/lib/python3.10/site-packages (from pyasn1-modules>=0.2.1->google-auth>=1.23.0->googleauthentication>=0.0.12->bigquery) (0.4.8)\n",
      "Requirement already satisfied: oauthlib>=3.0.0 in /home/shalini_tiwari/anaconda3/lib/python3.10/site-packages (from requests-oauthlib>=0.7.0->google-auth-oauthlib>=0.4.0->googleauthentication>=0.0.12->bigquery) (3.2.2)\n"
     ]
    },
    {
     "name": "stdout",
     "output_type": "stream",
     "text": [
      "Requirement already satisfied: mypy-extensions>=0.3.0 in /home/shalini_tiwari/anaconda3/lib/python3.10/site-packages (from typing-inspect>=0.4.0->libcst>=0.2.5->google-cloud-secret-manager==2.7.2->googleauthentication>=0.0.12->bigquery) (0.4.3)\n",
      "Building wheels for collected packages: bigquery, dbstream, googleauthentication, google-api-python-client, dacktool\n",
      "  Building wheel for bigquery (setup.py) ... \u001b[?25ldone\n",
      "\u001b[?25h  Created wheel for bigquery: filename=bigquery-0.0.35-py3-none-any.whl size=9595 sha256=ed059f743f246cdbd4a2eb945133b8cb19c7f6964d2675323710502d7a5ac254\n",
      "  Stored in directory: /home/shalini_tiwari/.cache/pip/wheels/cc/61/e1/23ae3a64f7f7d740c7c4ff533ebab3b729da4f241ef872d1ce\n",
      "  Building wheel for dbstream (setup.py) ... \u001b[?25ldone\n",
      "\u001b[?25h  Created wheel for dbstream: filename=dbstream-0.1.21-py3-none-any.whl size=6933 sha256=ff1faa49befc472f068b6e595e04fdef53eb44ea81e62b00f9e4022295dc7b59\n",
      "  Stored in directory: /home/shalini_tiwari/.cache/pip/wheels/1c/ff/e7/587204d56154d7a342f634aa55e03119c5eb5e812c6a9b0437\n",
      "  Building wheel for googleauthentication (setup.py) ... \u001b[?25ldone\n",
      "\u001b[?25h  Created wheel for googleauthentication: filename=googleauthentication-0.0.17-py3-none-any.whl size=3886 sha256=03a8a3d445c146ea5628f64029aa8c47287a5d5ffa4fb71e1d8a39a5094082e4\n",
      "  Stored in directory: /home/shalini_tiwari/.cache/pip/wheels/9f/56/a5/c742b7be90dd4d6cb8f7f41f723757d952769d425a686dcf34\n",
      "  Building wheel for google-api-python-client (setup.py) ... \u001b[?25ldone\n",
      "\u001b[?25h  Created wheel for google-api-python-client: filename=google_api_python_client-1.7.11-py3-none-any.whl size=56528 sha256=9539b39c4f4bdb1d8bb97afd24c40b3d3910fb066218d74bda45c0d770ae2b76\n",
      "  Stored in directory: /home/shalini_tiwari/.cache/pip/wheels/7d/82/e2/5737c8fafea196101d1fcf11861b7c806615a54d992ba14604\n",
      "  Building wheel for dacktool (setup.py) ... \u001b[?25ldone\n",
      "\u001b[?25h  Created wheel for dacktool: filename=dacktool-0.0.7-py3-none-any.whl size=4780 sha256=b6da1f07530757c7c85fa15a88dd40135b017053face5b806b835aa71960012c\n",
      "  Stored in directory: /home/shalini_tiwari/.cache/pip/wheels/f6/6d/3d/3d4adf8bd5689f61e0f3f11494203433d34d19409f6b23557c\n",
      "Successfully built bigquery dbstream googleauthentication google-api-python-client dacktool\n",
      "Installing collected packages: uritemplate, proto-plus, grpcio, dacktool, pandas, libcst, grpcio-status, grpc-google-iam-v1, google-auth-httplib2, google-api-python-client, dbstream, google-cloud-secret-manager, google-cloud-bigquery-storage, google-cloud-bigquery, googleauthentication, bigquery\n",
      "  Attempting uninstall: pandas\n",
      "    Found existing installation: pandas 1.5.3\n",
      "    Uninstalling pandas-1.5.3:\n",
      "      Successfully uninstalled pandas-1.5.3\n",
      "Successfully installed bigquery-0.0.35 dacktool-0.0.7 dbstream-0.1.21 google-api-python-client-1.7.11 google-auth-httplib2-0.0.3 google-cloud-bigquery-3.11.4 google-cloud-bigquery-storage-2.22.0 google-cloud-secret-manager-2.7.2 googleauthentication-0.0.17 grpc-google-iam-v1-0.12.6 grpcio-1.57.0 grpcio-status-1.57.0 libcst-1.0.1 pandas-1.3.4 proto-plus-1.22.3 uritemplate-3.0.1\n",
      "Note: you may need to restart the kernel to use updated packages.\n"
     ]
    }
   ],
   "source": [
    "pip install bigquery"
   ]
  },
  {
   "cell_type": "code",
   "execution_count": null,
   "id": "c160b2a3",
   "metadata": {},
   "outputs": [],
   "source": [
    "sql_query = \"\"\"\n",
    "select * from `table_name`\n",
    "\"\"\"\n",
    "bq_client =bigquery.Client()\n",
    "bq_data = bq_client.query(sql_query)\n",
    "for row in bq_data:\n",
    "    print(row)"
   ]
  },
  {
   "cell_type": "code",
   "execution_count": 6,
   "id": "fe812463",
   "metadata": {},
   "outputs": [],
   "source": [
    "text = \"The comparison of calculated data (lines) with experimental ones (points) is shown in Figs. 4 and 5.Fig. 4The fatigue life of specimens of D16T alloy with three holes under regular loading: (1, 2) one and three holes; (3) barrier compression.Fig. 5The fatigue life of specimens of D16T alloy with cylindrical and conical holes under regular loading: (1, 2) cylindrical and cylindrical and conical holes; (3) barrier compression.\""
   ]
  },
  {
   "cell_type": "code",
   "execution_count": 7,
   "id": "a922c0d9",
   "metadata": {},
   "outputs": [
    {
     "data": {
      "text/plain": [
       "428"
      ]
     },
     "execution_count": 7,
     "metadata": {},
     "output_type": "execute_result"
    }
   ],
   "source": [
    "len(text)"
   ]
  },
  {
   "cell_type": "code",
   "execution_count": 9,
   "id": "0fdd18b0",
   "metadata": {},
   "outputs": [],
   "source": [
    "text2 = \"The calculation by nominal stresses is based on using the experimental fatigue curves of specimens with a free hole and effective stress concentration factors [2]. To obtain fatigue curves, tests are carried out on standardized specimens with a ratio of width to diameter at uniaxial cyclic loading over a zero-to-tension cyclic load. The value of the effective stress concentration coefficients is determined by the results of experimental studies or by empirical dependencies.\""
   ]
  },
  {
   "cell_type": "code",
   "execution_count": 10,
   "id": "96a66189",
   "metadata": {},
   "outputs": [
    {
     "data": {
      "text/plain": [
       "478"
      ]
     },
     "execution_count": 10,
     "metadata": {},
     "output_type": "execute_result"
    }
   ],
   "source": [
    "len(text2)"
   ]
  },
  {
   "cell_type": "code",
   "execution_count": 11,
   "id": "a450aea7",
   "metadata": {},
   "outputs": [
    {
     "ename": "SyntaxError",
     "evalue": "(unicode error) 'unicodeescape' codec can't decode bytes in position 98-99: truncated \\uXXXX escape (2429376037.py, line 1)",
     "output_type": "error",
     "traceback": [
      "\u001b[0;36m  Cell \u001b[0;32mIn[11], line 1\u001b[0;36m\u001b[0m\n\u001b[0;31m    text3 = \"10Npc=Cσnsfm1−σnfσnsfm2.<![CDATA[$$ {N}_{pc}=\\frac{C}{{\\left({\\upsigma}_n^{sf}\\right)}^m{\\left(1-\\frac{\\upsigma_n^f}{\\upsigma_n^{sf}}\\right)}^{\\frac{m}{2}}}. $$]]>\"\u001b[0m\n\u001b[0m                                                                                                                                                                                 ^\u001b[0m\n\u001b[0;31mSyntaxError\u001b[0m\u001b[0;31m:\u001b[0m (unicode error) 'unicodeescape' codec can't decode bytes in position 98-99: truncated \\uXXXX escape\n"
     ]
    }
   ],
   "source": [
    "text3 = \"10Npc=Cσnsfm1−σnfσnsfm2.<![CDATA[$$ {N}_{pc}=\\frac{C}{{\\left({\\upsigma}_n^{sf}\\right)}^m{\\left(1-\\frac{\\upsigma_n^f}{\\upsigma_n^{sf}}\\right)}^{\\frac{m}{2}}}. $$]]>\""
   ]
  },
  {
   "cell_type": "code",
   "execution_count": null,
   "id": "9bf06697",
   "metadata": {},
   "outputs": [],
   "source": [
    "pip install amazon-textract-textractor"
   ]
  },
  {
   "cell_type": "code",
   "execution_count": null,
   "id": "bd8f5656",
   "metadata": {},
   "outputs": [],
   "source": []
  }
 ],
 "metadata": {
  "kernelspec": {
   "display_name": "Python 3 (ipykernel)",
   "language": "python",
   "name": "python3"
  },
  "language_info": {
   "codemirror_mode": {
    "name": "ipython",
    "version": 3
   },
   "file_extension": ".py",
   "mimetype": "text/x-python",
   "name": "python",
   "nbconvert_exporter": "python",
   "pygments_lexer": "ipython3",
   "version": "3.10.9"
  }
 },
 "nbformat": 4,
 "nbformat_minor": 5
}
